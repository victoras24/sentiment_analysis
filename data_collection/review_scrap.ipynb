{
 "cells": [
  {
   "cell_type": "code",
   "execution_count": 3,
   "metadata": {},
   "outputs": [],
   "source": [
    "import pandas as pd\n",
    "from bs4 import BeautifulSoup\n",
    "import time\n",
    "from selenium import webdriver\n",
    "from selenium.webdriver.chrome.service import Service\n",
    "from webdriver_manager.chrome import ChromeDriverManager"
   ]
  },
  {
   "cell_type": "code",
   "execution_count": 21,
   "metadata": {},
   "outputs": [],
   "source": [
    "wd = webdriver.Chrome(service=Service(ChromeDriverManager().install()))"
   ]
  },
  {
   "cell_type": "code",
   "execution_count": 26,
   "metadata": {},
   "outputs": [],
   "source": [
    "for i in range(0, 15, 15):\n",
    "    wd.get(f\"https://www.tripadvisor.com/Restaurant_Review-g190384-d1508597-Reviews-or{i}-Fat_Mama_s-Paphos_Paphos_District.html\")\n",
    "    time.sleep(5)\n",
    "    with open(f\"review{i}.html\", \"w\" ) as file:\n",
    "        file.write(wd.page_source)\n",
    "    continue"
   ]
  },
  {
   "cell_type": "code",
   "execution_count": 5,
   "metadata": {},
   "outputs": [],
   "source": [
    "for i in range(195, 2730, 15):\n",
    "    wd.get(f\"https://www.tripadvisor.com/Restaurant_Review-g190384-d1508597-Reviews-or{i}-Fat_Mama_s-Paphos_Paphos_District.html\")\n",
    "    time.sleep(5)\n",
    "    with open(f\"review{i}.html\", \"w\" ) as file:\n",
    "        file.write(wd.page_source)\n",
    "    continue"
   ]
  },
  {
   "cell_type": "code",
   "execution_count": null,
   "metadata": {},
   "outputs": [],
   "source": []
  }
 ],
 "metadata": {
  "kernelspec": {
   "display_name": "minimal_ds",
   "language": "python",
   "name": "python3"
  },
  "language_info": {
   "codemirror_mode": {
    "name": "ipython",
    "version": 3
   },
   "file_extension": ".py",
   "mimetype": "text/x-python",
   "name": "python",
   "nbconvert_exporter": "python",
   "pygments_lexer": "ipython3",
   "version": "3.9.16"
  },
  "orig_nbformat": 4,
  "vscode": {
   "interpreter": {
    "hash": "838322342fafe541f7c0272d0234eeeb402796b6113d91158161c035837f43ab"
   }
  }
 },
 "nbformat": 4,
 "nbformat_minor": 2
}
