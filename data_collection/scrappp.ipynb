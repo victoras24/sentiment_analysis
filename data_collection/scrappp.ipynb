{
 "cells": [
  {
   "cell_type": "code",
   "execution_count": 17,
   "metadata": {},
   "outputs": [],
   "source": [
    "import csv\n",
    "import time\n",
    "from selenium import webdriver\n",
    "from selenium.webdriver.chrome.service import Service\n",
    "from webdriver_manager.chrome import ChromeDriverManager\n",
    "from selenium.webdriver.common.by import By\n",
    "from selenium.webdriver.support.ui import WebDriverWait\n",
    "from selenium.webdriver.support import expected_conditions as EC"
   ]
  },
  {
   "cell_type": "code",
   "execution_count": 64,
   "metadata": {},
   "outputs": [],
   "source": [
    "import time\n",
    "import csv\n",
    "from selenium import webdriver\n",
    "from selenium.webdriver.common.by import By\n",
    "from selenium.webdriver.chrome.service import Service\n",
    "from webdriver_manager.chrome import ChromeDriverManager\n",
    "\n",
    "path_to_file = '../data_collection/review_test.csv'\n",
    "csvFile = open(path_to_file, 'a', encoding=\"utf-8\")\n",
    "csvWriter = csv.writer(csvFile)\n",
    "\n",
    "# loop through a specific range of pages\n",
    "driver = webdriver.Chrome(service=Service(ChromeDriverManager().install()))\n",
    "\n",
    "for i in range(0, 2730, 15):\n",
    "\n",
    "    # navigate to the specific page using the URL\n",
    "    url = f\"https://www.tripadvisor.com/Restaurant_Review-g190384-d1508597-Reviews-or{i}-Fat_Mama_s-Paphos_Paphos_District.html\"\n",
    "    driver.get(url)\n",
    "    \n",
    "    # give the DOM time to load\n",
    "    time.sleep(2)\n",
    "\n",
    "    # accept cookies preferences\n",
    "    try:\n",
    "        accept_button = driver.find_element(by=By.ID, value=\"onetrust-accept-btn-handler\")\n",
    "        time.sleep(2)\n",
    "        accept_button.click()\n",
    "    except:\n",
    "        pass\n",
    "\n",
    "    # give the DOM time to load\n",
    "    time.sleep(2)\n",
    "\n",
    "    # Expand the review if it hasn't been expanded yet\n",
    "    review_container = driver.find_elements(by=By.CLASS_NAME, value=\"review-container\")\n",
    "    for review in review_container:\n",
    "        try:\n",
    "            show_more_button = review.find_element(by=By.XPATH, value=\"//span[@class='taLnk ulBlueLinks' and contains(text(),'More')]\")\n",
    "            show_more_button.click()\n",
    "        except:\n",
    "            pass\n",
    "    \n",
    "    # Now we'll ask Selenium to look for elements in the page and save them to a variable. First lets define a container that will hold all the reviews on the page. In a moment we'll parse these and save them:\n",
    "    review_container = driver.find_elements(by=By.CLASS_NAME, value=\"review-container\")\n",
    "    \n",
    "    # Now we'll look at the reviews in the container and parse them out\n",
    "    for j in range(len(review_container)): # A loop defined by the number of reviews\n",
    "\n",
    "        #Grab the review\n",
    "        review = review_container[j].find_element(by=By.CLASS_NAME, value=\"partial_entry\").text.replace(\"\\n\", \"  \")\n",
    "\n",
    "        #Save that data in the csv and then continue to process the next review\n",
    "        csvWriter.writerow([review])\n",
    "\n",
    "# When all pages have been processed, quit the driver\n",
    "driver.quit()\n"
   ]
  },
  {
   "cell_type": "code",
   "execution_count": null,
   "metadata": {},
   "outputs": [],
   "source": []
  }
 ],
 "metadata": {
  "kernelspec": {
   "display_name": "minimal_ds",
   "language": "python",
   "name": "python3"
  },
  "language_info": {
   "codemirror_mode": {
    "name": "ipython",
    "version": 3
   },
   "file_extension": ".py",
   "mimetype": "text/x-python",
   "name": "python",
   "nbconvert_exporter": "python",
   "pygments_lexer": "ipython3",
   "version": "3.9.16"
  },
  "orig_nbformat": 4,
  "vscode": {
   "interpreter": {
    "hash": "838322342fafe541f7c0272d0234eeeb402796b6113d91158161c035837f43ab"
   }
  }
 },
 "nbformat": 4,
 "nbformat_minor": 2
}
