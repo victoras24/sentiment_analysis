{
 "cells": [
  {
   "cell_type": "code",
   "execution_count": 49,
   "metadata": {},
   "outputs": [],
   "source": [
    "import pandas as pd\n",
    "import numpy as np\n",
    "import matplotlib as plt\n",
    "import matplotlib.pyplot as plt\n",
    "import seaborn as sns\n",
    "\n",
    "import nltk \n"
   ]
  },
  {
   "cell_type": "code",
   "execution_count": 2,
   "metadata": {},
   "outputs": [],
   "source": [
    "# import cleaned data\n",
    "\n",
    "df = pd.read_csv('../data_processing/reviews_cleaned.csv')"
   ]
  },
  {
   "cell_type": "code",
   "execution_count": 3,
   "metadata": {},
   "outputs": [
    {
     "data": {
      "text/html": [
       "<div>\n",
       "<style scoped>\n",
       "    .dataframe tbody tr th:only-of-type {\n",
       "        vertical-align: middle;\n",
       "    }\n",
       "\n",
       "    .dataframe tbody tr th {\n",
       "        vertical-align: top;\n",
       "    }\n",
       "\n",
       "    .dataframe thead th {\n",
       "        text-align: right;\n",
       "    }\n",
       "</style>\n",
       "<table border=\"1\" class=\"dataframe\">\n",
       "  <thead>\n",
       "    <tr style=\"text-align: right;\">\n",
       "      <th></th>\n",
       "      <th>profile_name</th>\n",
       "      <th>user_reviews</th>\n",
       "      <th>summary</th>\n",
       "      <th>text</th>\n",
       "      <th>stars</th>\n",
       "    </tr>\n",
       "  </thead>\n",
       "  <tbody>\n",
       "    <tr>\n",
       "      <th>0</th>\n",
       "      <td>peterbH5107W</td>\n",
       "      <td>16</td>\n",
       "      <td>Excellent food and cabaret</td>\n",
       "      <td>We were recommended to go here while in Paphos...</td>\n",
       "      <td>5</td>\n",
       "    </tr>\n",
       "    <tr>\n",
       "      <th>1</th>\n",
       "      <td>relinquishedall</td>\n",
       "      <td>8</td>\n",
       "      <td>Music, Palinka, decent food</td>\n",
       "      <td>Had some food and a few beers, as a band playe...</td>\n",
       "      <td>5</td>\n",
       "    </tr>\n",
       "    <tr>\n",
       "      <th>2</th>\n",
       "      <td>audreysouthampton</td>\n",
       "      <td>5</td>\n",
       "      <td>Great evening</td>\n",
       "      <td>What a lovely evening, the staff couldn’t of b...</td>\n",
       "      <td>5</td>\n",
       "    </tr>\n",
       "    <tr>\n",
       "      <th>3</th>\n",
       "      <td>pauladK1021PE</td>\n",
       "      <td>1</td>\n",
       "      <td>LOVE LOVE LOVE Fat Mamas</td>\n",
       "      <td>2nd night out of 4 for us. Had to go back as o...</td>\n",
       "      <td>5</td>\n",
       "    </tr>\n",
       "    <tr>\n",
       "      <th>4</th>\n",
       "      <td>Le5ley63</td>\n",
       "      <td>30</td>\n",
       "      <td>Great night</td>\n",
       "      <td>Food really good,  fantastic service, and danc...</td>\n",
       "      <td>5</td>\n",
       "    </tr>\n",
       "  </tbody>\n",
       "</table>\n",
       "</div>"
      ],
      "text/plain": [
       "        profile_name user_reviews                      summary  \\\n",
       "0       peterbH5107W           16   Excellent food and cabaret   \n",
       "1    relinquishedall            8  Music, Palinka, decent food   \n",
       "2  audreysouthampton            5                Great evening   \n",
       "3      pauladK1021PE            1     LOVE LOVE LOVE Fat Mamas   \n",
       "4           Le5ley63           30                  Great night   \n",
       "\n",
       "                                                text  stars  \n",
       "0  We were recommended to go here while in Paphos...      5  \n",
       "1  Had some food and a few beers, as a band playe...      5  \n",
       "2  What a lovely evening, the staff couldn’t of b...      5  \n",
       "3  2nd night out of 4 for us. Had to go back as o...      5  \n",
       "4  Food really good,  fantastic service, and danc...      5  "
      ]
     },
     "execution_count": 3,
     "metadata": {},
     "output_type": "execute_result"
    }
   ],
   "source": [
    "df.head()"
   ]
  },
  {
   "cell_type": "code",
   "execution_count": 4,
   "metadata": {},
   "outputs": [
    {
     "data": {
      "text/html": [
       "<div>\n",
       "<style scoped>\n",
       "    .dataframe tbody tr th:only-of-type {\n",
       "        vertical-align: middle;\n",
       "    }\n",
       "\n",
       "    .dataframe tbody tr th {\n",
       "        vertical-align: top;\n",
       "    }\n",
       "\n",
       "    .dataframe thead th {\n",
       "        text-align: right;\n",
       "    }\n",
       "</style>\n",
       "<table border=\"1\" class=\"dataframe\">\n",
       "  <thead>\n",
       "    <tr style=\"text-align: right;\">\n",
       "      <th></th>\n",
       "      <th>stars</th>\n",
       "    </tr>\n",
       "  </thead>\n",
       "  <tbody>\n",
       "    <tr>\n",
       "      <th>count</th>\n",
       "      <td>2730.000000</td>\n",
       "    </tr>\n",
       "    <tr>\n",
       "      <th>mean</th>\n",
       "      <td>4.294505</td>\n",
       "    </tr>\n",
       "    <tr>\n",
       "      <th>std</th>\n",
       "      <td>1.017476</td>\n",
       "    </tr>\n",
       "    <tr>\n",
       "      <th>min</th>\n",
       "      <td>1.000000</td>\n",
       "    </tr>\n",
       "    <tr>\n",
       "      <th>25%</th>\n",
       "      <td>4.000000</td>\n",
       "    </tr>\n",
       "    <tr>\n",
       "      <th>50%</th>\n",
       "      <td>5.000000</td>\n",
       "    </tr>\n",
       "    <tr>\n",
       "      <th>75%</th>\n",
       "      <td>5.000000</td>\n",
       "    </tr>\n",
       "    <tr>\n",
       "      <th>max</th>\n",
       "      <td>5.000000</td>\n",
       "    </tr>\n",
       "  </tbody>\n",
       "</table>\n",
       "</div>"
      ],
      "text/plain": [
       "             stars\n",
       "count  2730.000000\n",
       "mean      4.294505\n",
       "std       1.017476\n",
       "min       1.000000\n",
       "25%       4.000000\n",
       "50%       5.000000\n",
       "75%       5.000000\n",
       "max       5.000000"
      ]
     },
     "execution_count": 4,
     "metadata": {},
     "output_type": "execute_result"
    }
   ],
   "source": [
    "# let's warm up with little bit eda analysis\n",
    "\n",
    "df.describe()"
   ]
  },
  {
   "cell_type": "code",
   "execution_count": 16,
   "metadata": {},
   "outputs": [
    {
     "data": {
      "text/html": [
       "<div>\n",
       "<style scoped>\n",
       "    .dataframe tbody tr th:only-of-type {\n",
       "        vertical-align: middle;\n",
       "    }\n",
       "\n",
       "    .dataframe tbody tr th {\n",
       "        vertical-align: top;\n",
       "    }\n",
       "\n",
       "    .dataframe thead th {\n",
       "        text-align: right;\n",
       "    }\n",
       "</style>\n",
       "<table border=\"1\" class=\"dataframe\">\n",
       "  <thead>\n",
       "    <tr style=\"text-align: right;\">\n",
       "      <th></th>\n",
       "      <th>profile_name</th>\n",
       "      <th>user_reviews</th>\n",
       "      <th>summary</th>\n",
       "      <th>text</th>\n",
       "      <th>stars</th>\n",
       "      <th>id</th>\n",
       "    </tr>\n",
       "  </thead>\n",
       "  <tbody>\n",
       "    <tr>\n",
       "      <th>0</th>\n",
       "      <td>peterbH5107W</td>\n",
       "      <td>16</td>\n",
       "      <td>Excellent food and cabaret</td>\n",
       "      <td>We were recommended to go here while in Paphos...</td>\n",
       "      <td>5</td>\n",
       "      <td>1</td>\n",
       "    </tr>\n",
       "    <tr>\n",
       "      <th>1</th>\n",
       "      <td>relinquishedall</td>\n",
       "      <td>8</td>\n",
       "      <td>Music, Palinka, decent food</td>\n",
       "      <td>Had some food and a few beers, as a band playe...</td>\n",
       "      <td>5</td>\n",
       "      <td>2</td>\n",
       "    </tr>\n",
       "    <tr>\n",
       "      <th>2</th>\n",
       "      <td>audreysouthampton</td>\n",
       "      <td>5</td>\n",
       "      <td>Great evening</td>\n",
       "      <td>What a lovely evening, the staff couldn’t of b...</td>\n",
       "      <td>5</td>\n",
       "      <td>3</td>\n",
       "    </tr>\n",
       "    <tr>\n",
       "      <th>3</th>\n",
       "      <td>pauladK1021PE</td>\n",
       "      <td>1</td>\n",
       "      <td>LOVE LOVE LOVE Fat Mamas</td>\n",
       "      <td>2nd night out of 4 for us. Had to go back as o...</td>\n",
       "      <td>5</td>\n",
       "      <td>4</td>\n",
       "    </tr>\n",
       "    <tr>\n",
       "      <th>4</th>\n",
       "      <td>Le5ley63</td>\n",
       "      <td>30</td>\n",
       "      <td>Great night</td>\n",
       "      <td>Food really good,  fantastic service, and danc...</td>\n",
       "      <td>5</td>\n",
       "      <td>5</td>\n",
       "    </tr>\n",
       "  </tbody>\n",
       "</table>\n",
       "</div>"
      ],
      "text/plain": [
       "        profile_name  user_reviews                      summary  \\\n",
       "0       peterbH5107W            16   Excellent food and cabaret   \n",
       "1    relinquishedall             8  Music, Palinka, decent food   \n",
       "2  audreysouthampton             5                Great evening   \n",
       "3      pauladK1021PE             1     LOVE LOVE LOVE Fat Mamas   \n",
       "4           Le5ley63            30                  Great night   \n",
       "\n",
       "                                                text  stars  id  \n",
       "0  We were recommended to go here while in Paphos...      5   1  \n",
       "1  Had some food and a few beers, as a band playe...      5   2  \n",
       "2  What a lovely evening, the staff couldn’t of b...      5   3  \n",
       "3  2nd night out of 4 for us. Had to go back as o...      5   4  \n",
       "4  Food really good,  fantastic service, and danc...      5   5  "
      ]
     },
     "execution_count": 16,
     "metadata": {},
     "output_type": "execute_result"
    }
   ],
   "source": [
    "# add id \n",
    "\n",
    "df['id'] = [i+1 for i in df.index]\n",
    "df.head()"
   ]
  },
  {
   "cell_type": "code",
   "execution_count": 5,
   "metadata": {},
   "outputs": [],
   "source": [
    "# change data type, \n",
    "\n",
    "df['user_reviews'] = df['user_reviews'].str.replace(',','').str.strip() # first I had to remove any comma for thousands\n",
    "df['user_reviews'] = df['user_reviews'].apply(pd.to_numeric, errors = 'coerce').\\\n",
    "                                        astype('Int64') # change column type to numeric"
   ]
  },
  {
   "cell_type": "code",
   "execution_count": 6,
   "metadata": {},
   "outputs": [
    {
     "data": {
      "text/plain": [
       "profile_name    object\n",
       "user_reviews     Int64\n",
       "summary         object\n",
       "text            object\n",
       "stars            int64\n",
       "dtype: object"
      ]
     },
     "execution_count": 6,
     "metadata": {},
     "output_type": "execute_result"
    }
   ],
   "source": [
    "df.dtypes"
   ]
  },
  {
   "cell_type": "code",
   "execution_count": 7,
   "metadata": {},
   "outputs": [
    {
     "data": {
      "text/html": [
       "<div>\n",
       "<style scoped>\n",
       "    .dataframe tbody tr th:only-of-type {\n",
       "        vertical-align: middle;\n",
       "    }\n",
       "\n",
       "    .dataframe tbody tr th {\n",
       "        vertical-align: top;\n",
       "    }\n",
       "\n",
       "    .dataframe thead th {\n",
       "        text-align: right;\n",
       "    }\n",
       "</style>\n",
       "<table border=\"1\" class=\"dataframe\">\n",
       "  <thead>\n",
       "    <tr style=\"text-align: right;\">\n",
       "      <th></th>\n",
       "      <th>user_reviews</th>\n",
       "      <th>stars</th>\n",
       "    </tr>\n",
       "  </thead>\n",
       "  <tbody>\n",
       "    <tr>\n",
       "      <th>count</th>\n",
       "      <td>2730.0</td>\n",
       "      <td>2730.000000</td>\n",
       "    </tr>\n",
       "    <tr>\n",
       "      <th>mean</th>\n",
       "      <td>41.277289</td>\n",
       "      <td>4.294505</td>\n",
       "    </tr>\n",
       "    <tr>\n",
       "      <th>std</th>\n",
       "      <td>81.766457</td>\n",
       "      <td>1.017476</td>\n",
       "    </tr>\n",
       "    <tr>\n",
       "      <th>min</th>\n",
       "      <td>1.0</td>\n",
       "      <td>1.000000</td>\n",
       "    </tr>\n",
       "    <tr>\n",
       "      <th>25%</th>\n",
       "      <td>7.0</td>\n",
       "      <td>4.000000</td>\n",
       "    </tr>\n",
       "    <tr>\n",
       "      <th>50%</th>\n",
       "      <td>18.0</td>\n",
       "      <td>5.000000</td>\n",
       "    </tr>\n",
       "    <tr>\n",
       "      <th>75%</th>\n",
       "      <td>43.0</td>\n",
       "      <td>5.000000</td>\n",
       "    </tr>\n",
       "    <tr>\n",
       "      <th>max</th>\n",
       "      <td>1744.0</td>\n",
       "      <td>5.000000</td>\n",
       "    </tr>\n",
       "  </tbody>\n",
       "</table>\n",
       "</div>"
      ],
      "text/plain": [
       "       user_reviews        stars\n",
       "count        2730.0  2730.000000\n",
       "mean      41.277289     4.294505\n",
       "std       81.766457     1.017476\n",
       "min             1.0     1.000000\n",
       "25%             7.0     4.000000\n",
       "50%            18.0     5.000000\n",
       "75%            43.0     5.000000\n",
       "max          1744.0     5.000000"
      ]
     },
     "execution_count": 7,
     "metadata": {},
     "output_type": "execute_result"
    }
   ],
   "source": [
    "df.describe()"
   ]
  },
  {
   "cell_type": "code",
   "execution_count": 8,
   "metadata": {},
   "outputs": [
    {
     "data": {
      "text/plain": [
       "<Axes: title={'center': 'Count of Reviews by Stars'}, xlabel='Review Stars'>"
      ]
     },
     "execution_count": 8,
     "metadata": {},
     "output_type": "execute_result"
    },
    {
     "data": {
      "image/png": "[encoded data removed]",
      "text/plain": [
       "<Figure size 1000x500 with 1 Axes>"
      ]
     },
     "metadata": {},
     "output_type": "display_data"
    }
   ],
   "source": [
    "ax = df['stars'].value_counts().\\\n",
    "            sort_index().\\\n",
    "            plot(kind='bar',\n",
    "                title='Count of Reviews by Stars',\n",
    "                figsize=(10, 5))\n",
    "\n",
    "ax.set_xlabel('Review Stars')\n",
    "ax"
   ]
  },
  {
   "cell_type": "code",
   "execution_count": 11,
   "metadata": {},
   "outputs": [
    {
     "data": {
      "text/plain": [
       "0    We were recommended to go here while in Paphos...\n",
       "1    Had some food and a few beers, as a band playe...\n",
       "2    What a lovely evening, the staff couldn’t of b...\n",
       "3    2nd night out of 4 for us. Had to go back as o...\n",
       "4    Food really good,  fantastic service, and danc...\n",
       "Name: text, dtype: object"
      ]
     },
     "execution_count": 11,
     "metadata": {},
     "output_type": "execute_result"
    }
   ],
   "source": [
    "text = df['text']\n",
    "text.head()"
   ]
  },
  {
   "cell_type": "code",
   "execution_count": 61,
   "metadata": {},
   "outputs": [
    {
     "data": {
      "text/plain": [
       "'Visited this restaurant from a recommendation, cabaret entertainment kept the children entertained.  Food was not very good the night we visited, we were a family of 8 and 3 of the burgers  that was ordered was not good at all.  We had quite a long...More'"
      ]
     },
     "execution_count": 61,
     "metadata": {},
     "output_type": "execute_result"
    }
   ],
   "source": [
    "ex = df['text'][24]\n",
    "ex"
   ]
  },
  {
   "cell_type": "code",
   "execution_count": 13,
   "metadata": {},
   "outputs": [],
   "source": [
    "from nltk.sentiment import SentimentIntensityAnalyzer\n",
    "from tqdm.notebook import tqdm \n",
    "\n",
    "sia = SentimentIntensityAnalyzer()"
   ]
  },
  {
   "cell_type": "code",
   "execution_count": 18,
   "metadata": {},
   "outputs": [
    {
     "data": {
      "application/vnd.jupyter.widget-view+json": {
       "model_id": "3e11a6e90df84a42adf63549f8eee97c",
       "version_major": 2,
       "version_minor": 0
      },
      "text/plain": [
       "  0%|          | 0/2730 [00:00<?, ?it/s]"
      ]
     },
     "metadata": {},
     "output_type": "display_data"
    }
   ],
   "source": [
    "#we store the sentiment in a dictionary\n",
    "res={}\n",
    "\n",
    "for i, r in tqdm(df.iterrows(), total = len(df)):\n",
    "    text = r['text']\n",
    "    myid = r['id']\n",
    "    res[myid] = sia.polarity_scores(text)"
   ]
  },
  {
   "cell_type": "code",
   "execution_count": 25,
   "metadata": {},
   "outputs": [
    {
     "data": {
      "text/html": [
       "<div>\n",
       "<style scoped>\n",
       "    .dataframe tbody tr th:only-of-type {\n",
       "        vertical-align: middle;\n",
       "    }\n",
       "\n",
       "    .dataframe tbody tr th {\n",
       "        vertical-align: top;\n",
       "    }\n",
       "\n",
       "    .dataframe thead th {\n",
       "        text-align: right;\n",
       "    }\n",
       "</style>\n",
       "<table border=\"1\" class=\"dataframe\">\n",
       "  <thead>\n",
       "    <tr style=\"text-align: right;\">\n",
       "      <th></th>\n",
       "      <th>profile_name</th>\n",
       "      <th>user_reviews</th>\n",
       "      <th>summary</th>\n",
       "      <th>text</th>\n",
       "      <th>stars</th>\n",
       "      <th>id</th>\n",
       "    </tr>\n",
       "  </thead>\n",
       "  <tbody>\n",
       "    <tr>\n",
       "      <th>0</th>\n",
       "      <td>peterbH5107W</td>\n",
       "      <td>16</td>\n",
       "      <td>Excellent food and cabaret</td>\n",
       "      <td>We were recommended to go here while in Paphos...</td>\n",
       "      <td>5</td>\n",
       "      <td>1</td>\n",
       "    </tr>\n",
       "    <tr>\n",
       "      <th>1</th>\n",
       "      <td>relinquishedall</td>\n",
       "      <td>8</td>\n",
       "      <td>Music, Palinka, decent food</td>\n",
       "      <td>Had some food and a few beers, as a band playe...</td>\n",
       "      <td>5</td>\n",
       "      <td>2</td>\n",
       "    </tr>\n",
       "    <tr>\n",
       "      <th>2</th>\n",
       "      <td>audreysouthampton</td>\n",
       "      <td>5</td>\n",
       "      <td>Great evening</td>\n",
       "      <td>What a lovely evening, the staff couldn’t of b...</td>\n",
       "      <td>5</td>\n",
       "      <td>3</td>\n",
       "    </tr>\n",
       "    <tr>\n",
       "      <th>3</th>\n",
       "      <td>pauladK1021PE</td>\n",
       "      <td>1</td>\n",
       "      <td>LOVE LOVE LOVE Fat Mamas</td>\n",
       "      <td>2nd night out of 4 for us. Had to go back as o...</td>\n",
       "      <td>5</td>\n",
       "      <td>4</td>\n",
       "    </tr>\n",
       "    <tr>\n",
       "      <th>4</th>\n",
       "      <td>Le5ley63</td>\n",
       "      <td>30</td>\n",
       "      <td>Great night</td>\n",
       "      <td>Food really good,  fantastic service, and danc...</td>\n",
       "      <td>5</td>\n",
       "      <td>5</td>\n",
       "    </tr>\n",
       "    <tr>\n",
       "      <th>...</th>\n",
       "      <td>...</td>\n",
       "      <td>...</td>\n",
       "      <td>...</td>\n",
       "      <td>...</td>\n",
       "      <td>...</td>\n",
       "      <td>...</td>\n",
       "    </tr>\n",
       "    <tr>\n",
       "      <th>2725</th>\n",
       "      <td>PartyGal</td>\n",
       "      <td>3</td>\n",
       "      <td>expensive and a rip off</td>\n",
       "      <td>On arrival at the restaurant we was greeted by...</td>\n",
       "      <td>3</td>\n",
       "      <td>2726</td>\n",
       "    </tr>\n",
       "    <tr>\n",
       "      <th>2726</th>\n",
       "      <td>LJWB</td>\n",
       "      <td>48</td>\n",
       "      <td>Family fun &amp; huge portions!</td>\n",
       "      <td>Eat here most times we visit Paphos, choice of...</td>\n",
       "      <td>4</td>\n",
       "      <td>2727</td>\n",
       "    </tr>\n",
       "    <tr>\n",
       "      <th>2727</th>\n",
       "      <td>LeedsBuffy</td>\n",
       "      <td>1</td>\n",
       "      <td>Fantastic food, fantastic atmosphere, fantasti...</td>\n",
       "      <td>I e-mailed the restaurant prior to going on ho...</td>\n",
       "      <td>5</td>\n",
       "      <td>2728</td>\n",
       "    </tr>\n",
       "    <tr>\n",
       "      <th>2728</th>\n",
       "      <td>lynrevell</td>\n",
       "      <td>51</td>\n",
       "      <td>Good fun</td>\n",
       "      <td>Went to Fat Mamas for a meal on my last night ...</td>\n",
       "      <td>4</td>\n",
       "      <td>2729</td>\n",
       "    </tr>\n",
       "    <tr>\n",
       "      <th>2729</th>\n",
       "      <td>MartinRobinson1987</td>\n",
       "      <td>20</td>\n",
       "      <td>How is the restaurant not up in the top...</td>\n",
       "      <td>How is the restaurant not up in the top ten at...</td>\n",
       "      <td>5</td>\n",
       "      <td>2730</td>\n",
       "    </tr>\n",
       "  </tbody>\n",
       "</table>\n",
       "<p>2730 rows × 6 columns</p>\n",
       "</div>"
      ],
      "text/plain": [
       "            profile_name  user_reviews  \\\n",
       "0           peterbH5107W            16   \n",
       "1        relinquishedall             8   \n",
       "2      audreysouthampton             5   \n",
       "3          pauladK1021PE             1   \n",
       "4               Le5ley63            30   \n",
       "...                  ...           ...   \n",
       "2725            PartyGal             3   \n",
       "2726                LJWB            48   \n",
       "2727          LeedsBuffy             1   \n",
       "2728           lynrevell            51   \n",
       "2729  MartinRobinson1987            20   \n",
       "\n",
       "                                                summary  \\\n",
       "0                            Excellent food and cabaret   \n",
       "1                           Music, Palinka, decent food   \n",
       "2                                         Great evening   \n",
       "3                              LOVE LOVE LOVE Fat Mamas   \n",
       "4                                           Great night   \n",
       "...                                                 ...   \n",
       "2725                            expensive and a rip off   \n",
       "2726                        Family fun & huge portions!   \n",
       "2727  Fantastic food, fantastic atmosphere, fantasti...   \n",
       "2728                                           Good fun   \n",
       "2729         How is the restaurant not up in the top...   \n",
       "\n",
       "                                                   text  stars    id  \n",
       "0     We were recommended to go here while in Paphos...      5     1  \n",
       "1     Had some food and a few beers, as a band playe...      5     2  \n",
       "2     What a lovely evening, the staff couldn’t of b...      5     3  \n",
       "3     2nd night out of 4 for us. Had to go back as o...      5     4  \n",
       "4     Food really good,  fantastic service, and danc...      5     5  \n",
       "...                                                 ...    ...   ...  \n",
       "2725  On arrival at the restaurant we was greeted by...      3  2726  \n",
       "2726  Eat here most times we visit Paphos, choice of...      4  2727  \n",
       "2727  I e-mailed the restaurant prior to going on ho...      5  2728  \n",
       "2728  Went to Fat Mamas for a meal on my last night ...      4  2729  \n",
       "2729  How is the restaurant not up in the top ten at...      5  2730  \n",
       "\n",
       "[2730 rows x 6 columns]"
      ]
     },
     "execution_count": 25,
     "metadata": {},
     "output_type": "execute_result"
    }
   ],
   "source": [
    "df"
   ]
  },
  {
   "cell_type": "code",
   "execution_count": 42,
   "metadata": {},
   "outputs": [],
   "source": [
    "# convert the dictionary into dataframe and merge it into the df\n",
    "\n",
    "vaders_sentiment = pd.DataFrame(res).T \n",
    "vaders_sentiment.reset_index(inplace=True)\n",
    "vaders_sentiment.rename(columns={'index': 'id'}, inplace=True)\n",
    "vaders_sentiment = vaders_sentiment.merge(df, how='left')"
   ]
  },
  {
   "cell_type": "code",
   "execution_count": 45,
   "metadata": {},
   "outputs": [
    {
     "data": {
      "text/html": [
       "<div>\n",
       "<style scoped>\n",
       "    .dataframe tbody tr th:only-of-type {\n",
       "        vertical-align: middle;\n",
       "    }\n",
       "\n",
       "    .dataframe tbody tr th {\n",
       "        vertical-align: top;\n",
       "    }\n",
       "\n",
       "    .dataframe thead th {\n",
       "        text-align: right;\n",
       "    }\n",
       "</style>\n",
       "<table border=\"1\" class=\"dataframe\">\n",
       "  <thead>\n",
       "    <tr style=\"text-align: right;\">\n",
       "      <th></th>\n",
       "      <th>id</th>\n",
       "      <th>neg</th>\n",
       "      <th>neu</th>\n",
       "      <th>pos</th>\n",
       "      <th>compound</th>\n",
       "      <th>profile_name</th>\n",
       "      <th>user_reviews</th>\n",
       "      <th>summary</th>\n",
       "      <th>text</th>\n",
       "      <th>stars</th>\n",
       "    </tr>\n",
       "  </thead>\n",
       "  <tbody>\n",
       "    <tr>\n",
       "      <th>0</th>\n",
       "      <td>1</td>\n",
       "      <td>0.055</td>\n",
       "      <td>0.724</td>\n",
       "      <td>0.222</td>\n",
       "      <td>0.8604</td>\n",
       "      <td>peterbH5107W</td>\n",
       "      <td>16</td>\n",
       "      <td>Excellent food and cabaret</td>\n",
       "      <td>We were recommended to go here while in Paphos...</td>\n",
       "      <td>5</td>\n",
       "    </tr>\n",
       "    <tr>\n",
       "      <th>1</th>\n",
       "      <td>2</td>\n",
       "      <td>0.000</td>\n",
       "      <td>0.611</td>\n",
       "      <td>0.389</td>\n",
       "      <td>0.9022</td>\n",
       "      <td>relinquishedall</td>\n",
       "      <td>8</td>\n",
       "      <td>Music, Palinka, decent food</td>\n",
       "      <td>Had some food and a few beers, as a band playe...</td>\n",
       "      <td>5</td>\n",
       "    </tr>\n",
       "    <tr>\n",
       "      <th>2</th>\n",
       "      <td>3</td>\n",
       "      <td>0.000</td>\n",
       "      <td>0.660</td>\n",
       "      <td>0.340</td>\n",
       "      <td>0.9552</td>\n",
       "      <td>audreysouthampton</td>\n",
       "      <td>5</td>\n",
       "      <td>Great evening</td>\n",
       "      <td>What a lovely evening, the staff couldn’t of b...</td>\n",
       "      <td>5</td>\n",
       "    </tr>\n",
       "    <tr>\n",
       "      <th>3</th>\n",
       "      <td>4</td>\n",
       "      <td>0.000</td>\n",
       "      <td>0.746</td>\n",
       "      <td>0.254</td>\n",
       "      <td>0.9762</td>\n",
       "      <td>pauladK1021PE</td>\n",
       "      <td>1</td>\n",
       "      <td>LOVE LOVE LOVE Fat Mamas</td>\n",
       "      <td>2nd night out of 4 for us. Had to go back as o...</td>\n",
       "      <td>5</td>\n",
       "    </tr>\n",
       "    <tr>\n",
       "      <th>4</th>\n",
       "      <td>5</td>\n",
       "      <td>0.000</td>\n",
       "      <td>0.684</td>\n",
       "      <td>0.316</td>\n",
       "      <td>0.9093</td>\n",
       "      <td>Le5ley63</td>\n",
       "      <td>30</td>\n",
       "      <td>Great night</td>\n",
       "      <td>Food really good,  fantastic service, and danc...</td>\n",
       "      <td>5</td>\n",
       "    </tr>\n",
       "  </tbody>\n",
       "</table>\n",
       "</div>"
      ],
      "text/plain": [
       "   id    neg    neu    pos  compound       profile_name  user_reviews  \\\n",
       "0   1  0.055  0.724  0.222    0.8604       peterbH5107W            16   \n",
       "1   2  0.000  0.611  0.389    0.9022    relinquishedall             8   \n",
       "2   3  0.000  0.660  0.340    0.9552  audreysouthampton             5   \n",
       "3   4  0.000  0.746  0.254    0.9762      pauladK1021PE             1   \n",
       "4   5  0.000  0.684  0.316    0.9093           Le5ley63            30   \n",
       "\n",
       "                       summary  \\\n",
       "0   Excellent food and cabaret   \n",
       "1  Music, Palinka, decent food   \n",
       "2                Great evening   \n",
       "3     LOVE LOVE LOVE Fat Mamas   \n",
       "4                  Great night   \n",
       "\n",
       "                                                text  stars  \n",
       "0  We were recommended to go here while in Paphos...      5  \n",
       "1  Had some food and a few beers, as a band playe...      5  \n",
       "2  What a lovely evening, the staff couldn’t of b...      5  \n",
       "3  2nd night out of 4 for us. Had to go back as o...      5  \n",
       "4  Food really good,  fantastic service, and danc...      5  "
      ]
     },
     "execution_count": 45,
     "metadata": {},
     "output_type": "execute_result"
    }
   ],
   "source": [
    "vaders_sentiment.head()"
   ]
  },
  {
   "cell_type": "code",
   "execution_count": 50,
   "metadata": {},
   "outputs": [
    {
     "data": {
      "image/png": "[encoded data removed]",
      "text/plain": [
       "<Figure size 640x480 with 1 Axes>"
      ]
     },
     "metadata": {},
     "output_type": "display_data"
    }
   ],
   "source": [
    "ax = sns.barplot(data=vaders_sentiment, x='stars', y='compound')\n",
    "ax.set_title('Compound score by star review')\n",
    "plt.show()"
   ]
  },
  {
   "cell_type": "code",
   "execution_count": 58,
   "metadata": {},
   "outputs": [
    {
     "data": {
      "image/png": "[encoded data removed]",
      "text/plain": [
       "<Figure size 1500x500 with 3 Axes>"
      ]
     },
     "metadata": {},
     "output_type": "display_data"
    }
   ],
   "source": [
    "fig, axs = plt.subplots(1, 3, figsize=(15, 5))\n",
    "sns.barplot(data = vaders_sentiment, x='stars', y='pos', ax = axs[0])\n",
    "sns.barplot(data = vaders_sentiment, x='stars', y='neu', ax = axs[1])\n",
    "sns.barplot(data = vaders_sentiment, x='stars', y='neg', ax = axs[2])\n",
    "axs[0].set_title('Positive')\n",
    "axs[1].set_title('Neutral')\n",
    "axs[2].set_title('Negative')\n",
    "plt.tight_layout()\n",
    "plt.show()"
   ]
  },
  {
   "cell_type": "code",
   "execution_count": 78,
   "metadata": {},
   "outputs": [
    {
     "data": {
      "text/plain": [
       "\"It's almost the end of our 2 week holiday in Cyprus and we've eaten out almost every night and had amazing food every night. we'd heard a lot of good things about Fat Mamas The amazing show and fabulous food etc and how you will...More\""
      ]
     },
     "execution_count": 78,
     "metadata": {},
     "output_type": "execute_result"
    }
   ],
   "source": [
    "# let's see where the model does the opposite of what we think it should do\n",
    "\n",
    "vaders_sentiment.query('stars == 1').sort_values('pos', ascending=False)['text'].values[0]"
   ]
  },
  {
   "cell_type": "code",
   "execution_count": 82,
   "metadata": {},
   "outputs": [
    {
     "data": {
      "text/plain": [
       "0.7113263736263737"
      ]
     },
     "execution_count": 82,
     "metadata": {},
     "output_type": "execute_result"
    }
   ],
   "source": [
    "# What is the overall sentiment score for the restaurant based on the reviews?\n",
    "\n",
    "vaders_sentiment['compound'].mean()"
   ]
  },
  {
   "cell_type": "code",
   "execution_count": 93,
   "metadata": {},
   "outputs": [
    {
     "data": {
      "image/png": "[encoded data removed]",
      "text/plain": [
       "<Figure size 640x480 with 1 Axes>"
      ]
     },
     "metadata": {},
     "output_type": "display_data"
    }
   ],
   "source": [
    "sns.scatterplot(data = vaders_sentiment, x='compound', y='user_reviews')\n",
    "plt.show()"
   ]
  },
  {
   "cell_type": "code",
   "execution_count": null,
   "metadata": {},
   "outputs": [],
   "source": [
    "#Is there a correlation between the length of the review and the sentiment score?\n"
   ]
  }
 ],
 "metadata": {
  "kernelspec": {
   "display_name": "minimal_ds",
   "language": "python",
   "name": "python3"
  },
  "language_info": {
   "codemirror_mode": {
    "name": "ipython",
    "version": 3
   },
   "file_extension": ".py",
   "mimetype": "text/x-python",
   "name": "python",
   "nbconvert_exporter": "python",
   "pygments_lexer": "ipython3",
   "version": "3.9.16"
  },
  "orig_nbformat": 4,
  "vscode": {
   "interpreter": {
    "hash": "838322342fafe541f7c0272d0234eeeb402796b6113d91158161c035837f43ab"
   }
  }
 },
 "nbformat": 4,
 "nbformat_minor": 2
}
